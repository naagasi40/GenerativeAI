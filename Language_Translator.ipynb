{
 "cells": [
  {
   "cell_type": "code",
   "execution_count": 0,
   "metadata": {
    "application/vnd.databricks.v1+cell": {
     "cellMetadata": {
      "byteLimit": 2048000,
      "rowLimit": 10000
     },
     "inputWidgets": {},
     "nuid": "d8666f6b-9a5d-416e-89ca-2a2ec9f62984",
     "showTitle": false,
     "title": ""
    }
   },
   "outputs": [
    {
     "output_type": "stream",
     "name": "stdout",
     "output_type": "stream",
     "text": [
      "Collecting azure-ai-translation-document==1.0.0\r\n  Downloading azure_ai_translation_document-1.0.0-py3-none-any.whl (64 kB)\r\n\u001B[?25l     \u001B[90m━━━━━━━━━━━━━━━━━━━━━━━━━━━━━━━━━━━━━━━━\u001B[0m \u001B[32m0.0/64.3 kB\u001B[0m \u001B[31m?\u001B[0m eta \u001B[36m-:--:--\u001B[0m\r\u001B[2K     \u001B[91m━━━━━━━━━━━━━━━━━━━\u001B[0m\u001B[90m╺\u001B[0m\u001B[90m━━━━━━━━━━━━━━━━━━━━\u001B[0m \u001B[32m30.7/64.3 kB\u001B[0m \u001B[31m1.0 MB/s\u001B[0m eta \u001B[36m0:00:01\u001B[0m\r\u001B[2K     \u001B[90m━━━━━━━━━━━━━━━━━━━━━━━━━━━━━━━━━━━━━━━━\u001B[0m \u001B[32m64.3/64.3 kB\u001B[0m \u001B[31m1.1 MB/s\u001B[0m eta \u001B[36m0:00:00\u001B[0m\r\n\u001B[?25hCollecting msrest>=0.6.21\r\n  Downloading msrest-0.7.1-py3-none-any.whl (85 kB)\r\n\u001B[?25l     \u001B[90m━━━━━━━━━━━━━━━━━━━━━━━━━━━━━━━━━━━━━━━━\u001B[0m \u001B[32m0.0/85.4 kB\u001B[0m \u001B[31m?\u001B[0m eta \u001B[36m-:--:--\u001B[0m\r\u001B[2K     \u001B[90m━━━━━━━━━━━━━━━━━━━━━━━━━━━━━━━━━━━━━━━━\u001B[0m \u001B[32m85.4/85.4 kB\u001B[0m \u001B[31m2.8 MB/s\u001B[0m eta \u001B[36m0:00:00\u001B[0m\r\n\u001B[?25hRequirement already satisfied: azure-core<2.0.0,>=1.14.0 in /databricks/python3/lib/python3.10/site-packages (from azure-ai-translation-document==1.0.0) (1.28.0)\r\nRequirement already satisfied: typing-extensions>=4.3.0 in /databricks/python3/lib/python3.10/site-packages (from azure-core<2.0.0,>=1.14.0->azure-ai-translation-document==1.0.0) (4.3.0)\r\nRequirement already satisfied: requests>=2.18.4 in /databricks/python3/lib/python3.10/site-packages (from azure-core<2.0.0,>=1.14.0->azure-ai-translation-document==1.0.0) (2.28.1)\r\nRequirement already satisfied: six>=1.11.0 in /usr/lib/python3/dist-packages (from azure-core<2.0.0,>=1.14.0->azure-ai-translation-document==1.0.0) (1.16.0)\r\nRequirement already satisfied: isodate>=0.6.0 in /databricks/python3/lib/python3.10/site-packages (from msrest>=0.6.21->azure-ai-translation-document==1.0.0) (0.6.1)\r\nRequirement already satisfied: certifi>=2017.4.17 in /databricks/python3/lib/python3.10/site-packages (from msrest>=0.6.21->azure-ai-translation-document==1.0.0) (2022.9.14)\r\nRequirement already satisfied: requests-oauthlib>=0.5.0 in /databricks/python3/lib/python3.10/site-packages (from msrest>=0.6.21->azure-ai-translation-document==1.0.0) (1.3.1)\r\nRequirement already satisfied: urllib3<1.27,>=1.21.1 in /databricks/python3/lib/python3.10/site-packages (from requests>=2.18.4->azure-core<2.0.0,>=1.14.0->azure-ai-translation-document==1.0.0) (1.26.11)\r\nRequirement already satisfied: idna<4,>=2.5 in /databricks/python3/lib/python3.10/site-packages (from requests>=2.18.4->azure-core<2.0.0,>=1.14.0->azure-ai-translation-document==1.0.0) (3.3)\r\nRequirement already satisfied: charset-normalizer<3,>=2 in /databricks/python3/lib/python3.10/site-packages (from requests>=2.18.4->azure-core<2.0.0,>=1.14.0->azure-ai-translation-document==1.0.0) (2.0.4)\r\nRequirement already satisfied: oauthlib>=3.0.0 in /usr/lib/python3/dist-packages (from requests-oauthlib>=0.5.0->msrest>=0.6.21->azure-ai-translation-document==1.0.0) (3.2.0)\r\nInstalling collected packages: msrest, azure-ai-translation-document\r\nSuccessfully installed azure-ai-translation-document-1.0.0 msrest-0.7.1\r\n\r\n\u001B[1m[\u001B[0m\u001B[34;49mnotice\u001B[0m\u001B[1;39;49m]\u001B[0m\u001B[39;49m A new release of pip available: \u001B[0m\u001B[31;49m22.2.2\u001B[0m\u001B[39;49m -> \u001B[0m\u001B[32;49m23.2.1\u001B[0m\r\n\u001B[1m[\u001B[0m\u001B[34;49mnotice\u001B[0m\u001B[1;39;49m]\u001B[0m\u001B[39;49m To update, run: \u001B[0m\u001B[32;49mpip install --upgrade pip\u001B[0m\r\nRequirement already satisfied: pip in /local_disk0/.ephemeral_nfs/envs/pythonEnv-a62583cb-cbed-484e-822a-918d09584433/lib/python3.10/site-packages (22.2.2)\r\nCollecting pip\r\n  Downloading pip-23.2.1-py3-none-any.whl (2.1 MB)\r\n\u001B[?25l     \u001B[90m━━━━━━━━━━━━━━━━━━━━━━━━━━━━━━━━━━━━━━━━\u001B[0m \u001B[32m0.0/2.1 MB\u001B[0m \u001B[31m?\u001B[0m eta \u001B[36m-:--:--\u001B[0m\r\u001B[2K     \u001B[91m╸\u001B[0m\u001B[90m━━━━━━━━━━━━━━━━━━━━━━━━━━━━━━━━━━━━━━━\u001B[0m \u001B[32m0.0/2.1 MB\u001B[0m \u001B[31m1.4 MB/s\u001B[0m eta \u001B[36m0:00:02\u001B[0m\r\u001B[2K     \u001B[91m━━\u001B[0m\u001B[90m╺\u001B[0m\u001B[90m━━━━━━━━━━━━━━━━━━━━━━━━━━━━━━━━━━━━━\u001B[0m \u001B[32m0.1/2.1 MB\u001B[0m \u001B[31m1.8 MB/s\u001B[0m eta \u001B[36m0:00:02\u001B[0m\r\u001B[2K     \u001B[91m━━━━━━━━━━━━━━━━━━━━━━━━━\u001B[0m\u001B[90m╺\u001B[0m\u001B[90m━━━━━━━━━━━━━━\u001B[0m \u001B[32m1.3/2.1 MB\u001B[0m \u001B[31m12.4 MB/s\u001B[0m eta \u001B[36m0:00:01\u001B[0m\r\u001B[2K     \u001B[90m━━━━━━━━━━━━━━━━━━━━━━━━━━━━━━━━━━━━━━━━\u001B[0m \u001B[32m2.1/2.1 MB\u001B[0m \u001B[31m15.1 MB/s\u001B[0m eta \u001B[36m0:00:00\u001B[0m\r\n\u001B[?25hInstalling collected packages: pip\r\n  Attempting uninstall: pip\r\n    Found existing installation: pip 22.2.2\r\n    Uninstalling pip-22.2.2:\r\n      Successfully uninstalled pip-22.2.2\r\nSuccessfully installed pip-23.2.1\r\n"
     ]
    }
   ],
   "source": [
    "import os  \n",
    "import requests  \n",
    "import uuid  \n",
    "import json  \n",
    "!pip install azure-ai-translation-document==1.0.0\n",
    "!pip install --upgrade pip\n",
    "from azure.ai.translation.document import DocumentTranslationClient\n",
    "from azure.core.credentials import AzureKeyCredential\n",
    "from azure.storage.blob import BlobServiceClient, BlobClient, ContainerClient  "
   ]
  },
  {
   "cell_type": "code",
   "execution_count": 0,
   "metadata": {
    "application/vnd.databricks.v1+cell": {
     "cellMetadata": {
      "byteLimit": 2048000,
      "rowLimit": 10000
     },
     "inputWidgets": {},
     "nuid": "4d50c444-3d92-4e13-aa3b-92f6cf568c6a",
     "showTitle": false,
     "title": ""
    }
   },
   "outputs": [],
   "source": [
    "# Set the subscription key and endpoint for the Azure Translator Text API  \n",
    "subscription_key = \"c2324a985a1741a18f47c83ac8b506c4\" \n",
    "endpoint = 'https://trrsltrlntr.cognitiveservices.azure.com/' "
   ]
  },
  {
   "cell_type": "code",
   "execution_count": 0,
   "metadata": {
    "application/vnd.databricks.v1+cell": {
     "cellMetadata": {
      "byteLimit": 2048000,
      "rowLimit": 10000
     },
     "inputWidgets": {},
     "nuid": "c3eb9ffe-be8b-46c5-9a26-d35c1acab37b",
     "showTitle": false,
     "title": ""
    }
   },
   "outputs": [],
   "source": [
    "# Define the language codes for the source and target languages  \n",
    "source_language = 'en'  "
   ]
  },
  {
   "cell_type": "code",
   "execution_count": 0,
   "metadata": {
    "application/vnd.databricks.v1+cell": {
     "cellMetadata": {
      "byteLimit": 2048000,
      "rowLimit": 10000
     },
     "inputWidgets": {},
     "nuid": "1d2ca4b2-17cc-4209-96a3-ac50664bea8a",
     "showTitle": false,
     "title": ""
    }
   },
   "outputs": [
    {
     "output_type": "display_data",
     "data": {
      "text/plain": [
       "Enter the list of target languages to translate the input text to, separated by commas (e.g., de,fr,nl):  de,nl,fr"
      ]
     },
     "metadata": {},
     "output_type": "display_data"
    }
   ],
   "source": [
    "# Ask the user to enter the list of target languages to translate the input text to  \n",
    "target_languages_str = input(\"Enter the list of target languages to translate the input text to, separated by commas (e.g., de,fr,nl): \")  \n",
    "target_languages = target_languages_str.split(',') "
   ]
  },
  {
   "cell_type": "code",
   "execution_count": 0,
   "metadata": {
    "application/vnd.databricks.v1+cell": {
     "cellMetadata": {
      "byteLimit": 2048000,
      "rowLimit": 10000
     },
     "inputWidgets": {},
     "nuid": "1ee40304-1ee6-41dd-a6f0-f6d774ecbf05",
     "showTitle": false,
     "title": ""
    }
   },
   "outputs": [
    {
     "output_type": "execute_result",
     "data": {
      "text/plain": [
       "['de', 'nl', 'fr']"
      ]
     },
     "execution_count": 5,
     "metadata": {},
     "output_type": "execute_result"
    }
   ],
   "source": [
    "target_languages"
   ]
  },
  {
   "cell_type": "code",
   "execution_count": 0,
   "metadata": {
    "application/vnd.databricks.v1+cell": {
     "cellMetadata": {
      "byteLimit": 2048000,
      "rowLimit": 10000
     },
     "inputWidgets": {},
     "nuid": "8b1308a3-3b7d-4323-8b01-a3940e54ef96",
     "showTitle": false,
     "title": ""
    }
   },
   "outputs": [],
   "source": [
    "# Define the connection string and container name for the Azure Blob Storage account  \n",
    "connection_string = 'DefaultEndpointsProtocol=https;AccountName=flklntransln;AccountKey=+lZTIj8Np3Xjx+tl85LjTwOit7ABoOjeXai94pwvpihMi82lHypNcwngDs9ehJAGxpkXPZCTaVbN+AStz/9IhA==;EndpointSuffix=core.windows.net'  \n",
    "container_name = 'wrdflklntrlnsource'"
   ]
  },
  {
   "cell_type": "code",
   "execution_count": 0,
   "metadata": {
    "application/vnd.databricks.v1+cell": {
     "cellMetadata": {
      "byteLimit": 2048000,
      "rowLimit": 10000
     },
     "inputWidgets": {},
     "nuid": "9719c3fe-5ef5-49ce-b68e-59da4200b50d",
     "showTitle": false,
     "title": ""
    }
   },
   "outputs": [],
   "source": [
    "# Define the name of the input file in Blob Storage  \n",
    "input_file_name = 'input.txt' "
   ]
  },
  {
   "cell_type": "code",
   "execution_count": 0,
   "metadata": {
    "application/vnd.databricks.v1+cell": {
     "cellMetadata": {
      "byteLimit": 2048000,
      "rowLimit": 10000
     },
     "inputWidgets": {},
     "nuid": "b3cc901a-dd9f-4b70-b269-48f6cabb5ca8",
     "showTitle": false,
     "title": ""
    }
   },
   "outputs": [],
   "source": [
    "# Create a BlobServiceClient object to access the Blob Storage account  \n",
    "blob_service_client = BlobServiceClient.from_connection_string(connection_string)"
   ]
  },
  {
   "cell_type": "code",
   "execution_count": 0,
   "metadata": {
    "application/vnd.databricks.v1+cell": {
     "cellMetadata": {
      "byteLimit": 2048000,
      "rowLimit": 10000
     },
     "inputWidgets": {},
     "nuid": "9487218d-7113-497d-ba0c-959f63ec485c",
     "showTitle": false,
     "title": ""
    }
   },
   "outputs": [],
   "source": [
    "# Get a BlobClient object for the input file  \n",
    "blob_client = blob_service_client.get_blob_client(container=container_name, blob=input_file_name)"
   ]
  },
  {
   "cell_type": "code",
   "execution_count": 0,
   "metadata": {
    "application/vnd.databricks.v1+cell": {
     "cellMetadata": {
      "byteLimit": 2048000,
      "rowLimit": 10000
     },
     "inputWidgets": {},
     "nuid": "fce306ab-8d73-43ab-b400-710da40e29be",
     "showTitle": false,
     "title": ""
    }
   },
   "outputs": [],
   "source": [
    "# Download the input file contents  \n",
    "input_text = blob_client.download_blob().content_as_text()"
   ]
  },
  {
   "cell_type": "code",
   "execution_count": 0,
   "metadata": {
    "application/vnd.databricks.v1+cell": {
     "cellMetadata": {
      "byteLimit": 2048000,
      "rowLimit": 10000
     },
     "inputWidgets": {},
     "nuid": "a14f609f-10c4-48d7-82e6-0f7c6f1e4539",
     "showTitle": false,
     "title": ""
    }
   },
   "outputs": [],
   "source": [
    "# Define the translation headers and payload  \n",
    "headers = {  \n",
    "    'Ocp-Apim-Subscription-Key': subscription_key,  \n",
    "    'Content-type': 'application/json',  \n",
    "    'X-ClientTraceId': str(uuid.uuid4())  \n",
    "}  \n",
    "  \n",
    "body = [{  \n",
    "    'text': input_text  \n",
    "}]"
   ]
  },
  {
   "cell_type": "code",
   "execution_count": 0,
   "metadata": {
    "application/vnd.databricks.v1+cell": {
     "cellMetadata": {
      "byteLimit": 2048000,
      "rowLimit": 10000
     },
     "inputWidgets": {},
     "nuid": "562823d7-c3f6-49b3-a8c6-9c056519bda5",
     "showTitle": false,
     "title": ""
    }
   },
   "outputs": [
    {
     "output_type": "stream",
     "name": "stdout",
     "output_type": "stream",
     "text": [
      "https://trrsltrlntr.cognitiveservices.azure.com//translate?api-version=3.0&from=en&to=['de', 'nl', 'fr']\n<Response [404]>\n"
     ]
    }
   ],
   "source": [
    "translation_url = f'{endpoint}/translate?api-version=3.0&from={source_language}&to={target_languages}'\n",
    "print(translation_url)\n",
    "response = requests.post(translation_url, headers=headers, json=body)  \n",
    "response_data = json.loads(response.content.decode('utf-8'))  \n",
    "print(response)"
   ]
  },
  {
   "cell_type": "code",
   "execution_count": 0,
   "metadata": {
    "application/vnd.databricks.v1+cell": {
     "cellMetadata": {
      "byteLimit": 2048000,
      "rowLimit": 10000
     },
     "inputWidgets": {},
     "nuid": "f5fd542e-a7bd-4cfa-96d4-08a81e4d97df",
     "showTitle": false,
     "title": ""
    }
   },
   "outputs": [
    {
     "output_type": "execute_result",
     "data": {
      "text/plain": [
       "{'error': {'code': '404', 'message': 'Resource not found'}}"
      ]
     },
     "execution_count": 13,
     "metadata": {},
     "output_type": "execute_result"
    }
   ],
   "source": [
    "  \n",
    "    # Extract the translated text from the response  \n",
    "    output_text = response_data\n",
    "    output_text"
   ]
  },
  {
   "cell_type": "code",
   "execution_count": 0,
   "metadata": {
    "application/vnd.databricks.v1+cell": {
     "cellMetadata": {
      "byteLimit": 2048000,
      "rowLimit": 10000
     },
     "inputWidgets": {},
     "nuid": "683eb816-56a9-464d-8fc4-2f6de2e51c6c",
     "showTitle": false,
     "title": ""
    }
   },
   "outputs": [
    {
     "output_type": "stream",
     "name": "stdout",
     "output_type": "stream",
     "text": [
      "https://trrsltrlntr.cognitiveservices.azure.com//translate?api-version=3.0&from=en&to=['de', 'nl', 'fr']\nhttps://trrsltrlntr.cognitiveservices.azure.com//translate?api-version=3.0&from=en&to=['de', 'nl', 'fr']\nhttps://trrsltrlntr.cognitiveservices.azure.com//translate?api-version=3.0&from=en&to=['de', 'nl', 'fr']\n"
     ]
    }
   ],
   "source": [
    "# Translate the input text to each target language and save the output to a file  \n",
    "for target_language in target_languages:  \n",
    "    # Define the translation URL and payload  \n",
    "    translation_url = f'{endpoint}/translate?api-version=3.0&from={source_language}&to={target_languages}' \n",
    "    print(translation_url)\n",
    "    response = requests.post(translation_url, headers=headers, json=body)  \n",
    "    #print(response)\n",
    "    response_data = json.loads(response.content.decode('utf-8'))  \n",
    "    "
   ]
  },
  {
   "cell_type": "code",
   "execution_count": 0,
   "metadata": {
    "application/vnd.databricks.v1+cell": {
     "cellMetadata": {
      "byteLimit": 2048000,
      "rowLimit": 10000
     },
     "inputWidgets": {},
     "nuid": "f292f398-b93a-4acc-a8d7-f53019c2cb0f",
     "showTitle": false,
     "title": ""
    }
   },
   "outputs": [
    {
     "output_type": "display_data",
     "data": {
      "text/plain": [
       "\u001B[0;31m---------------------------------------------------------------------------\u001B[0m\n",
       "\u001B[0;31mKeyError\u001B[0m                                  Traceback (most recent call last)\n",
       "File \u001B[0;32m<command-2646505977091294>, line 2\u001B[0m\n",
       "\u001B[1;32m      1\u001B[0m \u001B[38;5;66;03m# Extract the translated text from the response  \u001B[39;00m\n",
       "\u001B[0;32m----> 2\u001B[0m output_text \u001B[38;5;241m=\u001B[39m \u001B[43mresponse_data\u001B[49m\u001B[43m[\u001B[49m\u001B[38;5;241;43m0\u001B[39;49m\u001B[43m]\u001B[49m[\u001B[38;5;124m'\u001B[39m\u001B[38;5;124mtranslations\u001B[39m\u001B[38;5;124m'\u001B[39m][\u001B[38;5;241m0\u001B[39m][\u001B[38;5;124m'\u001B[39m\u001B[38;5;124mtext\u001B[39m\u001B[38;5;124m'\u001B[39m]  \n",
       "\n",
       "\u001B[0;31mKeyError\u001B[0m: 0"
      ]
     },
     "metadata": {
      "application/vnd.databricks.v1+output": {
       "arguments": {},
       "data": "\u001B[0;31m---------------------------------------------------------------------------\u001B[0m\n\u001B[0;31mKeyError\u001B[0m                                  Traceback (most recent call last)\nFile \u001B[0;32m<command-2646505977091294>, line 2\u001B[0m\n\u001B[1;32m      1\u001B[0m \u001B[38;5;66;03m# Extract the translated text from the response  \u001B[39;00m\n\u001B[0;32m----> 2\u001B[0m output_text \u001B[38;5;241m=\u001B[39m \u001B[43mresponse_data\u001B[49m\u001B[43m[\u001B[49m\u001B[38;5;241;43m0\u001B[39;49m\u001B[43m]\u001B[49m[\u001B[38;5;124m'\u001B[39m\u001B[38;5;124mtranslations\u001B[39m\u001B[38;5;124m'\u001B[39m][\u001B[38;5;241m0\u001B[39m][\u001B[38;5;124m'\u001B[39m\u001B[38;5;124mtext\u001B[39m\u001B[38;5;124m'\u001B[39m]  \n\n\u001B[0;31mKeyError\u001B[0m: 0",
       "errorSummary": "<span class='ansi-red-fg'>KeyError</span>: 0",
       "errorTraceType": "ansi",
       "metadata": {},
       "type": "ipynbError"
      }
     },
     "output_type": "display_data"
    }
   ],
   "source": [
    "    \n",
    "    # Extract the translated text from the response  \n",
    "    output_text = response_data[0]['translations'][0]['text']  "
   ]
  },
  {
   "cell_type": "code",
   "execution_count": 0,
   "metadata": {
    "application/vnd.databricks.v1+cell": {
     "cellMetadata": {
      "byteLimit": 2048000,
      "rowLimit": 10000
     },
     "inputWidgets": {},
     "nuid": "ecf9f889-eb84-4141-a76d-75c5f0c713a6",
     "showTitle": false,
     "title": ""
    }
   },
   "outputs": [
    {
     "output_type": "display_data",
     "data": {
      "text/plain": [
       ""
      ]
     },
     "metadata": {
      "application/vnd.databricks.v1+output": {
       "arguments": {},
       "data": "",
       "errorSummary": "Command skipped",
       "errorTraceType": "ansi",
       "metadata": {},
       "type": "ipynbError"
      }
     },
     "output_type": "display_data"
    }
   ],
   "source": [
    "# Save the translated output to a file in Blob Storage  \n",
    "    output_file_name = f'output_{target_languages}.txt'  \n",
    "    blob_client = blob_service_client.get_blob_client(container=container_name, blob=output_file_name)  \n",
    "    blob_client.upload_blob(output_text, overwrite=True)"
   ]
  }
 ],
 "metadata": {
  "application/vnd.databricks.v1+notebook": {
   "dashboards": [],
   "language": "python",
   "notebookMetadata": {
    "pythonIndentUnit": 4
   },
   "notebookName": "trial1",
   "widgets": {}
  }
 },
 "nbformat": 4,
 "nbformat_minor": 0
}
